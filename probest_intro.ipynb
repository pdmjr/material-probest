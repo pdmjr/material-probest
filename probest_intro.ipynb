{
 "cells": [
  {
   "cell_type": "markdown",
   "metadata": {},
   "source": [
    "# 📊 Probabilidade e Estatística Aplicada à Avaliação de Desempenho\n",
    "\n",
    "Este notebook foi construído a partir de exemplos práticos em Python, utilizando dados reais e simulados.\n",
    "\n",
    "Software necessário: [pandas, seaborn, numpy, matpotlib, scipy, scikit-learn, kaggle]\n",
    "\n",
    "```bash\n",
    "pip3 install [DEPENDÊNCIA] # para instalar dependências\n",
    "```\n",
    "\n",
    "Importando as bibliotecas..."
   ]
  },
  {
   "cell_type": "code",
   "execution_count": null,
   "metadata": {},
   "outputs": [],
   "source": [
    "import pandas as pd\n",
    "import seaborn as sns\n",
    "import numpy as np\n",
    "import statistics\n",
    "import matplotlib.pyplot as plt\n",
    "from scipy.stats import poisson, norm, geom\n"
   ]
  },
  {
   "cell_type": "markdown",
   "metadata": {},
   "source": [
    "**Agenda:**\n",
    "- [Definições e Conceitos](#1-definições-e-conceitos)\n",
    "- [Tipos de Estatísticas](#2-tipos-de-estatísticas)\n",
    "- [Medidas Estatísticas](#3-medidas-estatísticas)\n",
    "- [Visualizações: Histograma e Boxplot](#4-visualizações)\n",
    "- [Variável Aleatórias e Funções de Probabilidade](#5-variáveis-aleatórias-e-funções-de-probabilidade)\n",
    "- [Distribuições de Probabilidade](#6-distribuições-de-probabilidade)\n",
    "- [Processo Estocástico](#6-processo-estocástico)\n",
    "- [Aplicações em Redes de Computadores](#7-aplicações-em-redes-de-computadores)"
   ]
  },
  {
   "cell_type": "markdown",
   "metadata": {},
   "source": [
    "## 1. Definições e Conceitos\n",
    "\n",
    "* Estatística\n",
    "\t* É uma ciência baseada na Teoria da Probabilidade, cujo o objetivo principal é nos auxiliar a tomar decisões ou tirar conclusões em situações de incerteza, a partir dos dados.\n",
    "\t* O objetivo é transformar dados brutos em conhecimento\n",
    "* População\n",
    "\t* É uma coleção completa de todos os elementos a serem estudados e que possuem características gerais comuns. \n",
    "\t* Observação: A população deve ser bem definida. \n",
    "* Amostra\n",
    "\t* É um subconjunto de membros selecionados de uma população.\n",
    "* Variável\n",
    "\t* Qualquer característica de interesse associada aos elementos de uma população.\n",
    "* Espaço Amostral\n",
    "\t* O conjunto de todos os possíveis resultados de um experimento.\n",
    "* Evento\n",
    "\t* O resultado de um experimento (um subconjunto do espaço amostral)\n",
    "* Probabilidade\n",
    "\t* Uma medida que tem valor entre 0 e 1 para cada evento possível. \n",
    "\t* É vista como uma quantificação para frequência de ocorrência de um evento"
   ]
  },
  {
   "cell_type": "code",
   "execution_count": null,
   "metadata": {},
   "outputs": [],
   "source": [
    "# Exemplo com dataset real: pinguins (altura, peso, espécie)\n",
    "df = sns.load_dataset('penguins').dropna()\n",
    "df.head()"
   ]
  },
  {
   "cell_type": "markdown",
   "metadata": {},
   "source": [
    "## 2. Tipos de Estatísticas\n",
    "\n",
    "### Estatística Descritiva\n",
    "\n",
    "* Fornece um **resumo dos dados** de forma numérica ou gráfica. \n",
    "* Exemplo\n",
    "\t* O gerente de um restaurante *fast-food* registrou os tempos de espera dos clientes no horário de almoço durante uma semana e sumarizou os dados"
   ]
  },
  {
   "cell_type": "code",
   "execution_count": null,
   "metadata": {},
   "outputs": [],
   "source": [
    "espera = [3,5,7,4,6,8,10,2,5,6,7,4,8,9,3,4,6,7,5] # tempos de espera em minutos\n",
    "\n",
    "print(f\"Tempo médio de espera: {statistics.mean(espera):.2f}\")\n",
    "print(f\"Mediana: {statistics.median(espera)}\")\n",
    "print(f\"Moda: {statistics.mode(espera)}\")"
   ]
  },
  {
   "cell_type": "markdown",
   "metadata": {},
   "source": [
    "### Estatística Inferencial\n",
    "\n",
    "* Usa uma amostra aleatória dos dados coletados de uma população para descrever e fazer inferências sobre a população. \n",
    "* As estatísticas inferenciais são valiosas quando não é conveniente ou possível examinar cada membro de uma população inteira. \n",
    "* Exemplo: \n",
    "\t* não seria prático medir o diâmetro de todos os pregos fabricados em uma fábrica ...\n",
    "\t* mas é possível medir o diâmetro de uma **amostra representativa** de pregos e usar essas informações para fazer generalizações sobre os diâmetros dos pregos produzidos.\n",
    "\n",
    "### Estatística Computacional\n",
    "\n",
    "* A estatística computacional é a interface entre estatística e ciência da computação. \n",
    "* Como nas estatísticas tradicionais, o objetivo é transformar dados brutos em conhecimento, mas o foco está em métodos estatísticos intensivos usando **algoritmos eficientes em computadores**.\n",
    "* Normalmente com tamanhos de amostra muito grandes e conjuntos de dados não homogêneos."
   ]
  },
  {
   "cell_type": "markdown",
   "metadata": {},
   "source": [
    "## 3. Medidas Estatísticas\n",
    "\n",
    "* Medidas de Posição\n",
    "\t* Moda, Média, Mediana, Percentis, Quartis. \n",
    "\t* Moda, Média, Mediana:\n",
    "\t\t* Apontam um **valor central** e são usadas para representar todo o conjunto\n",
    "\t\t* São chamadas de medidas de Tendência Central\n",
    "* Medidas de Dispersão\n",
    "\t* Amplitude, Distância Interquartil, Variância, Desvio Padrão, Coeficiente de Variação\n",
    "\n",
    "### Medidas de Posição\n",
    "\n",
    "#### Moda\n",
    "\n",
    "* Valor que aparece com mais frequência em um conjunto de dados\n",
    "* Exemplo: qual é a moda dos pesos dos pinguins"
   ]
  },
  {
   "cell_type": "code",
   "execution_count": null,
   "metadata": {},
   "outputs": [],
   "source": [
    "peso = df['body_mass_g']\n",
    "print(f\"Moda: {statistics.mode(peso)}\")\n",
    "peso.head()"
   ]
  },
  {
   "cell_type": "markdown",
   "metadata": {},
   "source": [
    "#### Média aritmétrica simpes\n",
    "\n",
    "* Fórmula\n",
    "\n",
    "$$ \\overline{x} = \\dfrac{x_1 + x_2 + \\dots + x_n}{n} = \\dfrac{1}{n} \\sum_{i=1}^{n} x_i $$\n",
    "\n",
    "* Exemplo: média aritmétrica do tamanho dos pinguins"
   ]
  },
  {
   "cell_type": "code",
   "execution_count": null,
   "metadata": {},
   "outputs": [],
   "source": [
    "nadadeiras = df['flipper_length_mm']\n",
    "print(f\"Comprimento médio da nadadeira (em mm): {statistics.mean(nadadeiras):.2f}\")\n",
    "nadadeiras.head()"
   ]
  },
  {
   "cell_type": "markdown",
   "metadata": {},
   "source": [
    "#### Mediana\n",
    "\n",
    "* Valor que ocupa a posição central de um conjunto de N dados **ordenados**\n",
    "    * Posição da mediana: $(n+1)/2$\n",
    "* Se houver uma quantidade **ímpar**, a mediana será o **valor central** do conjunto\n",
    "* Se a quantidade de valores for um número **par**, a mediana será a média aritmética dos dois números centrais\n",
    "* Exemplos:\n",
    "\n",
    "$$ A=\\{10, 12, 13, 14, 14, 15, 15, 18, 19, 20\\} \\rightarrow M_d(A) = \\dfrac{15+15}{2} = 14.5 $$\n",
    "\n",
    "$$ B=\\{10, 12, 13, 14, 14, 15, 18, 19, 20\\} \\rightarrow M_d(B) = 14 $$"
   ]
  },
  {
   "cell_type": "code",
   "execution_count": null,
   "metadata": {},
   "outputs": [],
   "source": [
    "print(f\"Mediana: {statistics.median(nadadeiras)}\")"
   ]
  },
  {
   "cell_type": "markdown",
   "metadata": {},
   "source": [
    "<img src=\"./figuras/mediana.png\" width=\"60%\" alt=\"Mediana\">"
   ]
  },
  {
   "cell_type": "markdown",
   "metadata": {},
   "source": [
    "Utilizando a biblioteca **numpy**"
   ]
  },
  {
   "cell_type": "code",
   "execution_count": null,
   "metadata": {},
   "outputs": [],
   "source": [
    "print(f\"Média: {np.mean(nadadeiras):.2f}\")\n",
    "print(f\"Desvio Padrão: {np.std(nadadeiras):.2f}\")\n",
    "print(f\"Variância: {np.var(nadadeiras):.2f}\")"
   ]
  },
  {
   "cell_type": "markdown",
   "metadata": {},
   "source": [
    "Medidas de Posição não dizem tudo sobre os dados\n",
    "\n",
    "<img src=\"./figuras/tabela-medidas-posicao.png\" width=\"70%\" alt=\"Tabela\">\n",
    "\n",
    "### Outras Medidas de Posição\n",
    "\n",
    "#### Percentil, Quartil, Decil\n",
    "\n",
    "* O 1º percentil determina os 1% menores valores\n",
    "* O 98º percentil determina os 98% menores valores\n",
    "* O 10º percentil é o primeiro **decil**\n",
    "* O 25º percentil é o primeiro **quartil**\n",
    "* O 50º percentil é a **mediana** e segundo **quartil**\n",
    "* O 75º percentil é o terceiro **quartil** \n",
    "* O 90º percentil é o nono **decil**\n",
    "\n",
    "<img src=\"./figuras/percentil-quartil-decil.png\" width=\"70%\" alt=\"Percentil, Quartil, Decil\">\n",
    "\n",
    "#### Exemplo:\n",
    "\n",
    "* Estudantes obtiveram as seguintes notas: $X=\\{79, 80, 81, 81, 85, 86, 87, 88, 89, 90, 94\\}$ \n",
    "* Abaixo de qual nota temos os **piores** 25%?\n",
    "* Acima de qual nota temos os **melhores** 25%?\n",
    "* Qual nota define os **top 10%**?\n"
   ]
  },
  {
   "cell_type": "code",
   "execution_count": null,
   "metadata": {},
   "outputs": [],
   "source": [
    "dados = np.array([79, 80, 81, 81, 85, 86, 87, 88, 89, 90, 94])\n",
    "\n",
    "# Calcular o 75º percentil\n",
    "percentis = np.percentile(dados, [25, 75, 90])\n",
    "print(f\"Os piores 25% são aqueles com notas abaixo de: {percentis[0]}\")\n",
    "print(f\"Os melhores 25% são aqueles com notas acima de: {percentis[1]}\")\n",
    "print(f\"Os top 10% são aqueles com notas acima de: {percentis[2]}\")"
   ]
  },
  {
   "cell_type": "markdown",
   "metadata": {},
   "source": [
    "### Medidas de Disperção\n",
    "\n",
    "* Amplitude\n",
    "    * Indica a diferença entre o **maior** e o **menor** valor observado.\n",
    "* Distância Interquartil\n",
    "    * A diferença entre o terceiro e o primeiro quartis: $DI(X) = Q3(X) - Q1(X)$\n",
    "* Variância e desvio padrão\n",
    "    * Medem a disperção dos dados **em relação à média**\n",
    "    * Fórmula da variância: $\\sigma^2 = \\frac{\\sum_{i=1}^{n} (y_{i}-\\bar{y})^2}{n-1}$\n",
    "    * Desvio padrão: $\\sigma$\n",
    "* Coeficiente de variação\n",
    "    * Mostra a variabilidade da amostra **em relação à média**, interpretado como um **percentual**\n",
    "    * Fórmula do coeficiente de variação: $C_v = \\dfrac{\\sigma}{\\mu} * 100$\n",
    "\n",
    "Um pouco mais de informação...\n",
    "\n",
    "<img src=\"./figuras/tabela-medidas-posicao2.png\" width=\"80%\" alt=\"Tabela2\">"
   ]
  },
  {
   "cell_type": "markdown",
   "metadata": {},
   "source": [
    "## 4. Visualizações\n",
    "\n",
    "### Boxplot\n",
    "\n",
    "Gráfico que resume a distribuição de um conjunto de dados numéricos, mostrando o mínimo, o primeiro quartil (Q1), a mediana (Q2), o terceiro quartil (Q3) e o máximo, incluindo a identificação de valores discrepantes ou *outliers*."
   ]
  },
  {
   "cell_type": "code",
   "execution_count": null,
   "metadata": {},
   "outputs": [],
   "source": [
    "# Gerar dados simulados (ex.: notas de uma turma)\n",
    "np.random.seed(42)  # para reprodutibilidade\n",
    "dados = np.random.normal(loc=70, scale=10, size=100)  # média=70, desvio=10, 100 alunos\n",
    "\n",
    "# Criar boxplot\n",
    "fig, ax = plt.subplots(figsize=(8, 5))\n",
    "box = ax.boxplot(dados, vert=False, patch_artist=True,\n",
    "                 boxprops=dict(facecolor=\"lightblue\"),\n",
    "                 medianprops=dict(color=\"red\", linewidth=2),\n",
    "                 showmeans=True, \n",
    "                 meanprops=dict(marker='o', markerfacecolor='green', markersize=8))\n",
    "\n",
    "# ax.set_title(\"Boxplot com Anotações\")\n",
    "ax.set_xlabel(\"Notas\")\n",
    "\n",
    "# Calcular estatísticas principais\n",
    "q1 = np.percentile(dados, 25)\n",
    "q2 = np.median(dados)\n",
    "q3 = np.percentile(dados, 75)\n",
    "min_val = np.min(dados[dados > (q1 - 1.5*(q3-q1))])  # sem outliers\n",
    "max_val = np.max(dados[dados < (q3 + 1.5*(q3-q1))])  # sem outliers\n",
    "outliers = dados[(dados < min_val) | (dados > max_val)]\n",
    "\n",
    "# Adicionar setas e textos\n",
    "ax.annotate(\"Mínimo\",\n",
    "            xy=(min_val, 1.05), xytext=(min_val, 1.2),\n",
    "            arrowprops=dict(facecolor='black', shrink=0.05),\n",
    "            ha=\"center\")\n",
    "\n",
    "ax.annotate(\"Q1 (1º quartil)\",\n",
    "            xy=(q1, 1), xytext=(q1-10, 1.3),\n",
    "            arrowprops=dict(facecolor='black', shrink=0.05),\n",
    "            ha=\"center\")\n",
    "\n",
    "ax.annotate(\"Mediana (Q2)\",\n",
    "            xy=(q2, 1), xytext=(q2, 1.4),\n",
    "            arrowprops=dict(facecolor='red', shrink=0.2),\n",
    "            ha=\"center\", color=\"red\")\n",
    "\n",
    "ax.annotate(\"Q3 (3º quartil)\",\n",
    "            xy=(q3, 1), xytext=(q3+10, 1.3),\n",
    "            arrowprops=dict(facecolor='black', shrink=0.05),\n",
    "            ha=\"center\")\n",
    "\n",
    "ax.annotate(\"Máximo\",\n",
    "            xy=(max_val, 1.05), xytext=(max_val, 1.2),\n",
    "            arrowprops=dict(facecolor='black', shrink=0.01),\n",
    "            ha=\"center\")\n",
    "\n",
    "ax.annotate(\"Outlier\",\n",
    "            xy=(outliers[0], 1), xytext=(outliers[0], 0.8),\n",
    "            arrowprops=dict(facecolor='black', shrink=0.15),\n",
    "            ha=\"center\")\n",
    "\n",
    "ax.annotate(\"Média\"\n",
    "            , xy=(np.mean(dados), 1), xytext=(np.mean(dados)+10, 0.8),\n",
    "            arrowprops=dict(facecolor='green', shrink=0.15),\n",
    "            ha=\"center\", color=\"green\")\n",
    "\n",
    "plt.show()\n",
    "\n",
    "# Explicação do boxplot:\n",
    "print(\"Explicação do Boxplot:\")\n",
    "print(\"- Cada caixa exibe a distribuição das notas de uma turma.\")\n",
    "print(\"- O tamanho da caixa representa o intervalo entre o 1º quartil (Q1) e o 3º quartil (Q3).\")\n",
    "print(\"- A linha dentro da caixa mostra a mediana (Q2).\")\n",
    "print(\"- O ponto verde indica a média dos dados.\")\n",
    "print(\"- Os 'bigodes' se estendem até os valores mínimos e máximos que não são considerados outliers.\")\n",
    "print(\"- Os pontos fora dos bigodes (se existerem) indicam outliers (valores atípicos).\")\n"
   ]
  },
  {
   "cell_type": "code",
   "execution_count": null,
   "metadata": {},
   "outputs": [],
   "source": [
    "# Gerar dados simulados para 3 turmas\n",
    "np.random.seed(42)  # reprodutibilidade\n",
    "turma_A = np.random.normal(loc=70, scale=10, size=100)  # média 70\n",
    "turma_B = np.random.normal(loc=65, scale=12, size=100)  # média 65\n",
    "turma_C = np.random.normal(loc=75, scale=8, size=100)   # média 75\n",
    "\n",
    "# Criar lista com os dados\n",
    "dados = [turma_A, turma_B, turma_C]\n",
    "\n",
    "# Gerar o boxplot\n",
    "plt.boxplot(dados, patch_artist=True, tick_labels=[\"Turma A\", \"Turma B\", \"Turma C\"],\n",
    "            boxprops=dict(facecolor=\"lightblue\"),\n",
    "            medianprops=dict(color=\"red\", linewidth=2))\n",
    "\n",
    "# Adicionar título e rótulos\n",
    "plt.title(\"Comparação de Notas entre Turmas\")\n",
    "plt.ylabel(\"Turmas\")\n",
    "plt.xlabel(\"Notas\")\n",
    "\n",
    "# Mostrar gráfico\n",
    "plt.show()\n",
    "\n",
    "# Explicação\n",
    "print(\"\"\"\n",
    "Comparação das notas entre as turmas\n",
    "\n",
    "- Turma A\n",
    "  • A maioria das notas ficou entre 63 e 74.\n",
    "  • A mediana (linha vermelha) está em torno de 70.\n",
    "  • Há um aluno com nota muito fora do padrão, bem baixo (44) do limite inferior.\n",
    "\n",
    "- Turma B\n",
    "  • As notas variaram bastante, desde 42 até quase 95.\n",
    "  • A mediana está um pouco abaixo da Turma A (≈66).\n",
    "  • Isso mostra que alguns alunos foram muito bem, mas outros tiveram notas bem baixas, aumentando a diferença dentro da turma.\n",
    "\n",
    "- Turma C\n",
    "  • Foi a turma com melhor desempenho geral.\n",
    "  • A mediana ficou em 75, mais alta que as outras turmas.\n",
    "  • A maior parte dos alunos tirou notas entre 70 e 82, ou seja, próximos uns dos outros.\n",
    "  • Também aparecem dois valores fora do padrão: um aluno com nota bem baixa (49) e outro com uma nota muito alta (106).\n",
    "\n",
    "- Resumo geral\n",
    "  • A Turma C foi a que se saiu melhor no conjunto.\n",
    "  • A Turma B foi a mais desigual, com alunos indo muito bem e outros indo mal.\n",
    "  • A Turma A ficou no meio do caminho: desempenho estável, mas sem alcançar a Turma C.\n",
    "\"\"\")\n"
   ]
  },
  {
   "cell_type": "markdown",
   "metadata": {},
   "source": [
    "### Histograma\n",
    "\n",
    "Um gráfico de barras que mostra a contagem de dados, onde cada barra vertical é um compartimento (**“bin”**)  que representa uma faixa de valores e a altura da barra conta a frequência dos dados no **bin**."
   ]
  },
  {
   "cell_type": "code",
   "execution_count": null,
   "metadata": {},
   "outputs": [],
   "source": [
    "sns.histplot(x=df[\"body_mass_g\"], kde=True, bins=20)\n",
    "plt.show()"
   ]
  },
  {
   "cell_type": "markdown",
   "metadata": {},
   "source": [
    "Adicionando algumas medidas..."
   ]
  },
  {
   "cell_type": "code",
   "execution_count": null,
   "metadata": {},
   "outputs": [],
   "source": [
    "percentis = np.percentile(df[\"body_mass_g\"], [25, 75, 90])\n",
    "media = df['body_mass_g'].mean()\n",
    "mediana = df['body_mass_g'].median()\n",
    "\n",
    "sns.histplot(x=df[\"body_mass_g\"], kde=True, bins=20)\n",
    "\n",
    "# Adicionar linhas verticais para os valores\n",
    "plt.axvline(percentis[2], color='red', linestyle='dashed', linewidth=1, label=f'90º Percentil ({percentis[2]:.2f})')\n",
    "plt.axvline(percentis[1], color='green', linestyle='dashed', linewidth=1, label=f'3º Quartil ({percentis[1]:.2f})')\n",
    "plt.axvline(percentis[0], color='orange', linestyle='dashed', linewidth=1, label=f'1º Quartil ({percentis[0]:.2f})')\n",
    "plt.axvline(mediana, color='blue', linestyle='dashed', linewidth=1, label=f'Mediana ({mediana:.2f})')\n",
    "plt.axvline(media, color='gray', linestyle='dashed', linewidth=1, label=f'Média ({media:.2f})')\n",
    "\n",
    "# Adicionar rótulos para cada linha\n",
    "plt.text(percentis[2] + 0.5, plt.ylim()[1]*0.96, f'{percentis[2]:.2f}', color='red', fontsize=9)\n",
    "plt.text(percentis[1] + 0.5, plt.ylim()[1]*0.96, f'{percentis[1]:.2f}', color='green', fontsize=9)\n",
    "plt.text(percentis[0] + 0.5, plt.ylim()[1]*0.96, f'{percentis[0]:.2f}', color='orange', fontsize=9)\n",
    "plt.text(mediana + 0.5, plt.ylim()[1]*0.96, f'{mediana:.2f}', color='blue', fontsize=9)\n",
    "plt.text(media + 0.5, plt.ylim()[1]*0.92, f'{media:.2f}', color='gray', fontsize=9)\n",
    "\n",
    "# Adicionar títulos e rótulos aos eixos\n",
    "plt.title('Histograma com Percentil e Quartis')\n",
    "plt.xlabel('Valores')\n",
    "plt.ylabel('Frequência')\n",
    "plt.legend(loc=(0.55, 0.6)) # Mostra as legendas das linhas verticais\n",
    "plt.grid(axis='y', alpha=0.75)\n",
    "plt.show()"
   ]
  },
  {
   "cell_type": "markdown",
   "metadata": {},
   "source": [
    "Exemplo interativo"
   ]
  },
  {
   "cell_type": "code",
   "execution_count": null,
   "metadata": {},
   "outputs": [],
   "source": [
    "# pip3 install ipywidgets\n",
    "from ipywidgets import interact, IntSlider, FloatSlider\n",
    "\n",
    "# Gerando dados de exemplo (distribuição normal)\n",
    "np.random.seed(42)\n",
    "dados = np.random.randn(1000)\n",
    "\n",
    "# Função para plotar o histograma\n",
    "def plot_hist(bins=10):\n",
    "    plt.figure(figsize=(6, 4))\n",
    "    plt.hist(dados, density=True, alpha=0.6, bins=bins, color='skyblue', edgecolor='black')\n",
    "    plt.title(f\"Histograma Interativo (bins = {bins})\")\n",
    "    plt.xlabel(\"Valores\")\n",
    "    plt.ylabel(\"Frequência\")\n",
    "    plt.show()\n",
    "\n",
    "# Widget interativo para controlar o número de bins\n",
    "interact(plot_hist, bins=IntSlider(min=5, max=50, step=1, value=10))\n"
   ]
  },
  {
   "cell_type": "markdown",
   "metadata": {},
   "source": [
    "Outro exemplo interativo..."
   ]
  },
  {
   "cell_type": "code",
   "execution_count": null,
   "metadata": {},
   "outputs": [],
   "source": [
    "# Função para plotar histograma + curva da Normal\n",
    "def plot_hist(mu=170, sigma=10, bins=20):\n",
    "    # Gerando dados simulados\n",
    "    np.random.seed(42)\n",
    "    dados = np.random.normal(loc=mu, scale=sigma, size=1000)\n",
    "\n",
    "    # Criando histograma com densidade\n",
    "    plt.figure(figsize=(8,5))\n",
    "    plt.hist(dados, bins=bins, density=True, alpha=0.6, \n",
    "             color='skyblue', edgecolor='black', label=\"Histograma (densidade)\")\n",
    "\n",
    "    # Curva teórica da normal\n",
    "    x = np.linspace(mu - 4*sigma, mu + 4*sigma, 200)\n",
    "    pdf = norm.pdf(x, loc=mu, scale=sigma)\n",
    "    plt.plot(x, pdf, 'r-', lw=2, label=\"Distribuição Normal (teórica)\")\n",
    "\n",
    "    plt.title(f\"Histograma de Densidade (μ={mu}, σ={sigma}, bins={bins})\")\n",
    "    plt.xlabel(\"Valores\")\n",
    "    plt.ylabel(\"Densidade de probabilidade\")\n",
    "    plt.legend()\n",
    "    plt.grid(True, linestyle=\"--\", alpha=0.6)\n",
    "    plt.show()\n",
    "\n",
    "# Widgets interativos\n",
    "interact(plot_hist, \n",
    "         mu=FloatSlider(min=150, max=190, step=1, value=170, description=\"Média (μ)\"),\n",
    "         sigma=FloatSlider(min=5, max=20, step=1, value=10, description=\"Desvio (σ)\"),\n",
    "         bins=IntSlider(min=5, max=50, step=1, value=20, description=\"Bins\"))\n"
   ]
  },
  {
   "cell_type": "markdown",
   "metadata": {},
   "source": [
    "Gráfico com várias curvas normais, todas com a mesma média e variando o desvio padrão\n",
    "* Todas as curvas estão centralizadas em 170 (mesma média).\n",
    "* Quando o σ é pequeno (ex.: 5), a curva é mais estreita e alta.\n",
    "* Quando o σ é maior (ex.: 20), a curva fica mais larga e baixa, espalhando os valores."
   ]
  },
  {
   "cell_type": "code",
   "execution_count": null,
   "metadata": {},
   "outputs": [],
   "source": [
    "# Parâmetros\n",
    "mu = 170                 # média fixa\n",
    "sigmas = [5, 10, 15, 20] # diferentes desvios padrões\n",
    "x = np.linspace(130, 210, 400)\n",
    "\n",
    "# Plotando as curvas\n",
    "plt.figure(figsize=(8,5))\n",
    "\n",
    "for sigma in sigmas:\n",
    "    pdf = norm.pdf(x, loc=mu, scale=sigma)\n",
    "    plt.plot(x, pdf, lw=2, label=f\"σ={sigma}\")\n",
    "\n",
    "plt.title(\"Distribuições Normais com a mesma média (μ=170) e diferentes σ\")\n",
    "plt.xlabel(\"Valores\")\n",
    "plt.ylabel(\"Densidade de Probabilidade\")\n",
    "plt.legend()\n",
    "plt.grid(True, linestyle=\"--\", alpha=0.6)\n",
    "plt.show()\n"
   ]
  },
  {
   "cell_type": "markdown",
   "metadata": {},
   "source": [
    "## 5. Variáveis Aleatórias e Funções de Probabilidade\n",
    "\n",
    "* Uma VA é uma variável cujos valores dependem dos resultados de um experimento aleatório\n",
    "    * Lembrando: **experimento aleatório = evento**\n",
    "* Uma VA mapeia um evento em um número\n",
    "* Variáveis podem ser **discretas** ou **contínuas**\n",
    "\n",
    "### Variável Aleatória Discreta\n",
    "\n",
    "* É uma variável cujos valores são contáveis\n",
    "* Exemplos de Variáveis Aleatórias Discretas:\n",
    "    * $H=\\{0,1,2,3,4,5\\}$, quantas “caras” em 5 lançamentos de uma moeda\n",
    "    * $X$ = estado do servidor: 1 se ativo, 0 se inativo\n",
    "    * $Y$ = número de pacotes IP por intervalo de tempo\n",
    "    * $D$ = valor do lançamento de um dado\n",
    "    * $I = {0,1}$, Zero se o lançamento do dado for par,  1 se for ímpar\n",
    "    * $Z = {0,1}$, Zero se o lançamento do dado <=3,  1 se for >3\n",
    "\n",
    "### Variável Aleatória Contínua\n",
    "\n",
    "* É uma variável cujos dados podem assumir infinitos valores\n",
    "* Exemplos de Variáveis Aleatórias Contínuas:\n",
    "    * $X$ = Tempo entre pacotes\n",
    "    * $Y$ = Jitter de pacotes\n",
    "    * $Z$ = Tempo de resposta do servidor\n",
    "    * $H$ = Altura de pessoas \n",
    "\n",
    "### Exemplo de Variável Aleatória\n",
    "\n",
    "* Um dado é jogado repetidamente até que um 6 seja obtido\n",
    "  * Espaço amostral: $\\{1,2,3,4,5,6\\}$\n",
    "  * Evento: \"o valor do dado é 6\"\n",
    "* Problema\n",
    "  * Analisar a probabilidade do evento \"$X=6$\" quando fazemos 1, 2, 3, ... N lançamentos\n",
    "* Racionalidade\n",
    "  * Seja $X$ a VA que representa **o número de vezes que jogamos o dado até obter um 6**\n",
    "  * Para conseguir um 6 no primeiro arremesso temos que $P(X=1) = 1/6$\n",
    "  * Para conseguir um 6 no segundo arremesso temos que\n",
    "    * Não obter um 6 no primeiro arremese **E** obter um 6 no segundo\n",
    "    * $P(X=2) = (5/6)(1/6) ≈ 0.138$\n",
    "* Em geral, para conseguir um 6 em $x$ lançamentos é\n",
    "\n",
    "$$ P(X=x) = (\\dfrac{5}{6})^{x-1} (\\dfrac{1}{6})^1 $$"
   ]
  },
  {
   "cell_type": "code",
   "execution_count": null,
   "metadata": {},
   "outputs": [],
   "source": [
    "# Definindo a função de probabilidade P(X=x)\n",
    "def prob(x):\n",
    "    return (5/6)**(x-1) * (1/6)\n",
    "\n",
    "# Valores de x (número de lançamentos até sair 6)\n",
    "x = np.arange(1, 11)  # até 15 lançamentos\n",
    "\n",
    "# Calculando as probabilidades\n",
    "p = [prob(i) for i in x]\n",
    "\n",
    "# Exibindo valores\n",
    "for i, val in zip(x, p):\n",
    "    print(f\"P(X={i}) = {val:.5f}\")\n"
   ]
  },
  {
   "cell_type": "markdown",
   "metadata": {},
   "source": [
    "### PDF (Probability Density / Mass Function)\n",
    "\n",
    "* É a função de probabilidade de uma variável aleatória.\n",
    "* Para variáveis discretas (como o lançamento de um dado), usamos PMF (Probability Mass Function).\n",
    "* Indica a probabilidade de o evento assumir um valor específico."
   ]
  },
  {
   "cell_type": "code",
   "execution_count": null,
   "metadata": {},
   "outputs": [],
   "source": [
    "# Parâmetros\n",
    "p = 1/6\n",
    "N = 20\n",
    "x = np.arange(1, N+1)\n",
    "pdf = geom.pmf(x, p)\n",
    "\n",
    "# Plot PDF\n",
    "plt.figure(figsize=(8,5))\n",
    "plt.stem(x, pdf, basefmt=\" \")\n",
    "plt.title(\"Função de Probabilidade (PDF) - Distribuição Geométrica\")\n",
    "plt.xlabel(\"Número de lançamentos até sair 6 (X)\")\n",
    "plt.ylabel(\"P(X = x)\")\n",
    "plt.grid(True, linestyle=\"--\", alpha=0.6)\n",
    "\n",
    "# Valores a destacar\n",
    "destacar = [1, 2, 5]\n",
    "\n",
    "for d in destacar:\n",
    "    plt.annotate(f\"P(X={d})={pdf[d-1]:.3f}\", \n",
    "                 xy=(d, pdf[d-1]), \n",
    "                 xytext=(d+1, pdf[d-1]),\n",
    "                 arrowprops=dict(facecolor='red', arrowstyle=\"->\"),\n",
    "                 fontsize=10, color=\"red\")\n",
    "\n",
    "plt.show()\n"
   ]
  },
  {
   "cell_type": "markdown",
   "metadata": {},
   "source": [
    "### CDF (Cumulative Distribution Function)\n",
    "\n",
    "* É a função de distribuição acumulada.\n",
    "* Mostra a probabilidade de a variável assumir um valor menor ou igual a x.\n",
    "* É obtida pela soma (no caso discreto) ou integral (no caso contínuo) da PDF.\n",
    "* Exemplo: $P(X ≤ 3) = P(X=1) + P(X=2) + P(X=3)$ → probabilidade de sair o primeiro 6 até o 3º lançamento."
   ]
  },
  {
   "cell_type": "code",
   "execution_count": null,
   "metadata": {},
   "outputs": [],
   "source": [
    "# CDF\n",
    "cdf = geom.cdf(x, p)\n",
    "\n",
    "# Plot CDF\n",
    "plt.figure(figsize=(8,5))\n",
    "plt.step(x, cdf, where=\"post\")\n",
    "plt.title(\"Função de Distribuição Acumulada (CDF) - Distribuição Geométrica\")\n",
    "plt.xlabel(\"Número de lançamentos até sair 6 (X)\")\n",
    "plt.ylabel(\"P(X ≤ x)\")\n",
    "plt.ylim(0, 1.05)\n",
    "plt.grid(True, linestyle=\"--\", alpha=0.6)\n",
    "\n",
    "# Valores a destacar\n",
    "destacar = [3, 5, 10]\n",
    "\n",
    "for d in destacar:\n",
    "    plt.annotate(f\"P(X≤{d})={cdf[d-1]:.3f}\", \n",
    "                 xy=(d, cdf[d-1]), \n",
    "                 xytext=(d+1, cdf[d-1]-0.1),\n",
    "                 arrowprops=dict(facecolor='blue', arrowstyle=\"->\"),\n",
    "                 fontsize=10, color=\"blue\")\n",
    "\n",
    "plt.show()\n"
   ]
  },
  {
   "cell_type": "markdown",
   "metadata": {},
   "source": [
    "## 6. Distribuições de Probabilidade"
   ]
  },
  {
   "cell_type": "markdown",
   "metadata": {},
   "source": [
    "### Distribuição de Poisson: \n",
    "\n",
    "Modela a probabilidade de ocorrência de um número de eventos discretos (neste caso, conexões em um servidor) em um intervalo de tempo, assumindo uma taxa média de λ = 4 conexões por hora. O gráfico de barras mostra as probabilidades para valores de 0 a 9 conexões."
   ]
  },
  {
   "cell_type": "code",
   "execution_count": null,
   "metadata": {},
   "outputs": [],
   "source": [
    "# Distribuição de Poisson: conexões em servidor (λ=4 por hora)\n",
    "x = range(0,10)\n",
    "pmf = poisson.pmf(x, mu=4)\n",
    "plt.bar(x, pmf)\n",
    "plt.title('Distribuição de Poisson (λ=4)')\n",
    "plt.show()"
   ]
  },
  {
   "cell_type": "markdown",
   "metadata": {},
   "source": [
    "### Distribuição Normal: \n",
    "\n",
    "Representa a variação contínua de uma característica (exemplo: alturas), com média μ = 170 cm e desvio padrão σ = 10 cm. O gráfico resultante exibe a função densidade de probabilidade, no formato de uma curva em sino."
   ]
  },
  {
   "cell_type": "code",
   "execution_count": null,
   "metadata": {},
   "outputs": [],
   "source": [
    "# Função para plotar a distribuição normal com parâmetros interativos\n",
    "def plot_normal(mu=170, sigma=10):\n",
    "    x = np.linspace(140, 200, 200)\n",
    "    pdf = norm.pdf(x, loc=mu, scale=sigma)\n",
    "    \n",
    "    plt.figure(figsize=(8,5))\n",
    "    plt.plot(x, pdf, color=\"blue\", lw=2)\n",
    "    plt.title(f\"Distribuição Normal (μ={mu}, σ={sigma})\")\n",
    "    plt.xlabel(\"Altura (cm)\")\n",
    "    plt.ylabel(\"Densidade de Probabilidade\")\n",
    "    plt.grid(True, linestyle=\"--\", alpha=0.6)\n",
    "    plt.show()\n",
    "\n",
    "# Widgets interativos: média e desvio padrão\n",
    "interact(plot_normal, \n",
    "         mu=FloatSlider(min=150, max=190, step=1, value=170, description=\"Média (μ)\"),\n",
    "         sigma=FloatSlider(min=5, max=20, step=1, value=10, description=\"Desvio (σ)\"))\n"
   ]
  },
  {
   "cell_type": "code",
   "execution_count": null,
   "metadata": {},
   "outputs": [],
   "source": [
    "# Distribuição Normal: alturas (simulação)\n",
    "x = np.linspace(140, 200, 100)\n",
    "pdf = norm.pdf(x, loc=170, scale=10)\n",
    "plt.plot(x, pdf)\n",
    "plt.title('Distribuição Normal (μ=170, σ=10)')\n",
    "plt.show()"
   ]
  },
  {
   "cell_type": "markdown",
   "metadata": {},
   "source": [
    "## 6. Processo Estocástico"
   ]
  },
  {
   "cell_type": "markdown",
   "metadata": {},
   "source": [
    "### Estocástico vs Determinístico\n",
    "\n",
    "* Processo Determinístico\n",
    "    * Qualquer ponto do processo pode ser determinado a partir das condições iniciais\n",
    "    * Comportamento é previsível\n",
    "    * Oposto de **randômico**\n",
    "    * Exemplos\n",
    "    * Posição de um carro em velocidade constante no tempo T\n",
    "    * O saldo de um investimento com taxa pré-fixada.\n",
    "    * A relação entre o raio de um círculo e sua área\n",
    "\n",
    "* Processo Estocástico\n",
    "    * Estocástico = **aleatório**\n",
    "    * Descreve o comportamento de uma coleção de eventos randômicos\n",
    "    * As condições iniciais não são suficientes para determinar o estado no tempo $T$\n",
    "    * Flutuações aleatórias tornam impossível a previsibilidade\n",
    "    * Podemos apenas dizer sobre o comportamento **provável** \n",
    "    * Informações são obtidas através de uma série de observações\n",
    "\n",
    "* Exemplo: código em Python que simula a evolução do tamanho de uma fila em um banco ao longo do tempo, utilizando um processo estocástico\n",
    "    * A fila começa com 5 pessoas\n",
    "    * A cada passo de tempo, o tamanho da fila varia de acordo com uma escolha aleatória entre $-2, -1, 0, 1, 2$ (representando saídas ou entradas de clientes)\n",
    "    * O tamanho nunca fica negativo, pois é aplicado $max(0, ...)$\n",
    "    * O resultado é um gráfico de linha mostrando como a fila cresce ou diminui de forma aleatória no decorrer do tempo\n",
    "\n",
    "👉 Esse tipo de simulação ajuda a visualizar fenômenos aleatórios em processos de chegada e atendimento, comuns em teoria de filas e análise de desempenho."
   ]
  },
  {
   "cell_type": "code",
   "execution_count": null,
   "metadata": {},
   "outputs": [],
   "source": [
    "import random\n",
    "\n",
    "fila = [5]\n",
    "for i in range(1,50):\n",
    "    fila.append(max(0, fila[-1] + random.choice([-2,-1,0,1,2])))\n",
    "\n",
    "plt.plot(fila)\n",
    "plt.title(\"Simulação de Fila em Banco (Processo Estocástico)\")\n",
    "plt.xlabel(\"Tempo\")\n",
    "plt.ylabel(\"Tamanho da fila\")\n",
    "plt.show()"
   ]
  },
  {
   "cell_type": "markdown",
   "metadata": {},
   "source": [
    "Outra versão que roda várias simulações da fila e mostra todas no mesmo gráfico para comparar diferentes cenários.\n",
    "\n",
    "* O que muda em relação ao anterior:\n",
    "    * Uma função *simular_fila* foi criada para facilitar a repetição\n",
    "    * São executadas 5 simulações independentes, cada uma representando um cenário possível\n",
    "    * O gráfico final mostra todas as curvas, permitindo comparar a evolução da fila em diferentes situações"
   ]
  },
  {
   "cell_type": "code",
   "execution_count": null,
   "metadata": {},
   "outputs": [],
   "source": [
    "# Função para simular a evolução da fila\n",
    "def simular_fila(tamanho_inicial=5, passos=50):\n",
    "    fila = [tamanho_inicial]\n",
    "    for i in range(1, passos):\n",
    "        fila.append(max(0, fila[-1] + random.choice([-2, -1, 0, 1, 2])))\n",
    "    return fila\n",
    "\n",
    "# Rodar várias simulações\n",
    "num_simulacoes = 5\n",
    "for i in range(num_simulacoes):\n",
    "    fila = simular_fila()\n",
    "    plt.plot(fila, label=f\"Simulação {i+1}\")\n",
    "\n",
    "# Personalizar gráfico\n",
    "plt.title(\"Simulação de Fila em Banco (Processos Estocásticos)\")\n",
    "plt.xlabel(\"Tempo\")\n",
    "plt.ylabel(\"Tamanho da Fila\")\n",
    "plt.legend()\n",
    "plt.show()\n"
   ]
  },
  {
   "cell_type": "markdown",
   "metadata": {},
   "source": [
    "Outra versão com múltiplas simulações e o resultado da média destacado.\n",
    "\n",
    "* O que foi adicionado:\n",
    "    * As simulações são armazenadas em uma lista simulacoes\n",
    "    * A função **np.mean(..., axis=0)** foi usada para calcular a média em cada instante de tempo\n",
    "    * Foi utilizada uma linha preta mais grossa para a média, destacando a tendência geral da fila"
   ]
  },
  {
   "cell_type": "code",
   "execution_count": null,
   "metadata": {},
   "outputs": [],
   "source": [
    "# Função para simular a evolução da fila\n",
    "def simular_fila(tamanho_inicial=5, passos=50):\n",
    "    fila = [tamanho_inicial]\n",
    "    for i in range(1, passos):\n",
    "        fila.append(max(0, fila[-1] + random.choice([-2, -1, 0, 1, 2])))\n",
    "    return fila\n",
    "\n",
    "# Rodar várias simulações\n",
    "num_simulacoes = 10\n",
    "simulacoes = []\n",
    "\n",
    "for i in range(num_simulacoes):\n",
    "    fila = simular_fila()\n",
    "    simulacoes.append(fila)\n",
    "    plt.plot(fila, alpha=0.6, label=f\"Simulação {i+1}\")\n",
    "\n",
    "# Calcular a média em cada instante de tempo\n",
    "media = np.mean(simulacoes, axis=0)\n",
    "\n",
    "# Adicionar linha da média em destaque\n",
    "plt.plot(media, color=\"black\", linewidth=3, label=\"Média das Simulações\")\n",
    "\n",
    "# Personalizar gráfico\n",
    "plt.title(\"Simulação de Fila em Banco (Processos Estocásticos)\")\n",
    "plt.xlabel(\"Tempo\")\n",
    "plt.ylabel(\"Tamanho da Fila\")\n",
    "plt.legend()\n",
    "plt.show()\n"
   ]
  },
  {
   "cell_type": "markdown",
   "metadata": {},
   "source": [
    "## 7. Aplicações em Redes de Computadores"
   ]
  },
  {
   "cell_type": "markdown",
   "metadata": {},
   "source": [
    "O código em Python a seguir gera e visualiza uma simulação do jitter em pacotes de rede.\n",
    "\n",
    "O jitter representa a variação do atraso entre pacotes sucessivos em uma transmissão.\n",
    "\n",
    "Ele é simulado aqui por meio de uma distribuição exponencial com parâmetro scale=0.5, gerando 200 valores aleatórios.\n",
    "\n",
    "O histograma é construído com a biblioteca Seaborn (sns.histplot), mostrando a frequência dos valores de jitter.\n",
    "\n",
    "A curva de densidade (KDE) é sobreposta ao histograma, facilitando a interpretação da distribuição.\n",
    "\n",
    "O gráfico final exibe como esses atrasos variam, o que é importante para avaliar a qualidade de serviços de rede em tempo real, como voz e vídeo."
   ]
  },
  {
   "cell_type": "code",
   "execution_count": null,
   "metadata": {},
   "outputs": [],
   "source": [
    "# Exemplo de jitter simulado entre pacotes\n",
    "jitter = np.random.exponential(scale=0.5, size=200)\n",
    "sns.histplot(jitter, bins=20, kde=True)\n",
    "plt.title(\"Distribuição de Jitter de Pacotes\")\n",
    "plt.show()"
   ]
  },
  {
   "cell_type": "markdown",
   "metadata": {},
   "source": [
    "Aqui está uma versão que compara dois cenários de jitter em redes.\n",
    "\n",
    "* O que esse código mostra:\n",
    "    * Rede estável → jitter menor, concentrado próximo de zero\n",
    "    * Rede congestionada → jitter maior, mais disperso\n",
    "    * O gráfico sobrepõe as distribuições, facilitando a comparação entre os cenários"
   ]
  },
  {
   "cell_type": "code",
   "execution_count": null,
   "metadata": {},
   "outputs": [],
   "source": [
    "# Simular jitter em dois cenários\n",
    "np.random.seed(42)\n",
    "jitter_estavel = np.random.exponential(scale=0.3, size=200)     # rede mais estável\n",
    "jitter_congestionada = np.random.exponential(scale=1.0, size=200)  # rede congestionada\n",
    "\n",
    "# Plotar comparativo\n",
    "plt.figure(figsize=(8,5))\n",
    "sns.histplot(jitter_estavel, bins=20, kde=True, color=\"blue\", label=\"Rede Estável\", alpha=0.6)\n",
    "sns.histplot(jitter_congestionada, bins=20, kde=True, color=\"red\", label=\"Rede Congestionada\", alpha=0.6)\n",
    "\n",
    "# Personalizar gráfico\n",
    "plt.title(\"Comparação da Distribuição de Jitter (Rede Estável vs Congestionada)\")\n",
    "plt.xlabel(\"Jitter (s)\")\n",
    "plt.ylabel(\"Frequência\")\n",
    "plt.legend()\n",
    "plt.show()\n"
   ]
  }
 ],
 "metadata": {
  "kernelspec": {
   "display_name": "Python 3",
   "language": "python",
   "name": "python3"
  },
  "language_info": {
   "codemirror_mode": {
    "name": "ipython",
    "version": 3
   },
   "file_extension": ".py",
   "mimetype": "text/x-python",
   "name": "python",
   "nbconvert_exporter": "python",
   "pygments_lexer": "ipython3",
   "version": "3.12.4"
  }
 },
 "nbformat": 4,
 "nbformat_minor": 2
}
