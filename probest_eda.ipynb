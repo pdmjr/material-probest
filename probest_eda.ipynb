{
 "cells": [
  {
   "cell_type": "markdown",
   "id": "6c37dfaa",
   "metadata": {},
   "source": [
    "# Exploratory Data Analysis (EDA)\n",
    "\n",
    "Exploratory Data Analysis (EDA) é uma etapa fundamental no processo de Ciência de Dados, cujo objetivo é compreender melhor os dados antes da aplicação de modelos ou técnicas mais avançadas. Durante o EDA, são utilizadas técnicas estatísticas, matemáticas e de visualização para:\n",
    "\n",
    "* **Explorar a estrutura dos dados**: identificar tipos de variáveis, distribuições, valores ausentes e outliers.\n",
    "* **Resumir características principais**: obter medidas descritivas como média, mediana, variância e correlação.\n",
    "* **Visualizar padrões**: usar gráficos (histogramas, boxplots, scatter plots, heatmaps, etc.) para detectar tendências, relações e possíveis anomalias.\n",
    "* **Gerar hipóteses iniciais**: levantar insights que podem guiar as próximas etapas da análise ou do desenvolvimento de modelos preditivos.\n",
    "\n",
    "O EDA não apenas garante uma compreensão mais profunda do conjunto de dados, mas também ajuda a evitar erros e a tomar decisões mais embasadas em todo o ciclo de análise.\n",
    "\n",
    "Instalar os pacotes necessários:"
   ]
  },
  {
   "cell_type": "code",
   "execution_count": null,
   "id": "cc721204",
   "metadata": {},
   "outputs": [],
   "source": [
    "!pip3 install opendatasets pandas kaggle"
   ]
  },
  {
   "cell_type": "markdown",
   "id": "c71c847b",
   "metadata": {},
   "source": [
    "## 1. Kaggle CLI – Instalação e Uso\n",
    "\n",
    "O **Kaggle CLI** permite interagir com a plataforma Kaggle diretamente pelo terminal, facilitando o download de datasets, submissão de competições e gerenciamento de kernels.\n",
    "\n",
    "### 1.1 Pré-requisitos\n",
    "\n",
    "* Python 3.7+ instalado\n",
    "* `pip` configurado\n",
    "* Conta no [Kaggle](https://www.kaggle.com)\n",
    "\n",
    "### 1.2 Instalação\n",
    "\n",
    "```bash\n",
    "pip install kaggle\n",
    "```\n",
    "\n",
    "Verifique a instalação:\n",
    "\n",
    "```bash\n",
    "kaggle --version\n",
    "```\n",
    "\n",
    "### 1.3 Configuração da API\n",
    "\n",
    "1. Acesse [Kaggle – Account Settings](https://www.kaggle.com/account).\n",
    "2. Vá em **API > Create New API Token**.\n",
    "3. Um arquivo chamado `kaggle.json` será baixado (contendo suas credenciais).\n",
    "4. Coloque o arquivo na pasta correta:\n",
    "\n",
    "   * Linux/MacOS:\n",
    "\n",
    "     ```bash\n",
    "     mkdir -p ~/.kaggle\n",
    "     mv ~/Downloads/kaggle.json ~/.kaggle/\n",
    "     chmod 600 ~/.kaggle/kaggle.json\n",
    "     ```\n",
    "   * Windows:\n",
    "     Coloque o arquivo em:\n",
    "\n",
    "     ```\n",
    "     C:\\Users\\<SeuUsuario>\\.kaggle\\kaggle.json\n",
    "     ```\n",
    "\n",
    "### 1.4 Comandos Básicos\n",
    "\n",
    "#### Listar competições\n",
    "\n",
    "```bash\n",
    "kaggle competitions list\n",
    "```\n",
    "\n",
    "#### Fazer download de dataset\n",
    "\n",
    "```bash\n",
    "kaggle datasets download -d <username>/<dataset-name>\n",
    "```\n",
    "\n",
    "Exemplo:\n",
    "\n",
    "```bash\n",
    "kaggle datasets download -d jsrojas/labeled-network-traffic-flows-114-applications --path datasets\n",
    "```\n",
    "\n",
    "#### Descompactar o dataset baixado\n",
    "\n",
    "```bash\n",
    "unzip datasets/labeled-network-traffic-flows-114-applications.zip -d ./datasets\n",
    "```\n",
    "\n",
    "#### Participar de competições\n",
    "\n",
    "Baixar os dados de uma competição:\n",
    "\n",
    "```bash\n",
    "kaggle competitions download -c <competition-name>\n",
    "```\n",
    "\n",
    "Enviar uma submissão:\n",
    "\n",
    "```bash\n",
    "kaggle competitions submit -c <competition-name> -f submission.csv -m \"Mensagem da submissão\"\n",
    "```\n",
    "\n",
    "### 1.5 Dicas Úteis\n",
    "\n",
    "* Sempre mantenha o arquivo `kaggle.json` **em local seguro**, pois ele contém sua chave de API.\n",
    "* É possível integrar o Kaggle CLI a notebooks e pipelines automatizados (ex.: Google Colab, Jupyter, scripts de ETL).\n",
    "* Para ver todos os comandos disponíveis:\n",
    "\n",
    "  ```bash\n",
    "  kaggle --help\n",
    "  ```"
   ]
  },
  {
   "cell_type": "markdown",
   "id": "5fd0857c",
   "metadata": {},
   "source": [
    "## 2. Roteiro de EDA na Prática\n",
    "\n",
    "## 2.1 Introdução\n",
    "\n",
    "* Explicar o que é EDA e sua importância.\n",
    "* Apresentar o dataset: *Labeled Network Traffic Flows*.\n",
    "  * Objetivo: identificar padrões e diferenças entre classes.\n",
    "\n",
    "\n",
    "## 2.2 Preparação dos Dados\n",
    "\n",
    "* Importar bibliotecas (`pandas`, `numpy`, `matplotlib`, `seaborn`).\n",
    "* Carregar o dataset com `pd.read_csv()`.\n",
    "* Exibir informações iniciais:\n",
    "  * `.head()`, `.info()`, `.describe()`.\n",
    "  * Tipos de dados e valores ausentes.\n",
    "\n",
    "\n",
    "## 2.3 Análise Univariada\n",
    "\n",
    "* Usar gráficos de barras e `value_counts()` para contar instâncias por classe.\n",
    "* Continuar explorando estatísticas descritivas (média, mediana, desvio-padrão).\n",
    "\n",
    "\n",
    "## 2.4 Análise Bivariada\n",
    "\n",
    "* Explorar correlações entre variáveis numéricas (heatmap de `seaborn`).\n",
    "* Relacionar características específicas (ex.: duração, bytes enviados/recebidos) com o tipo de protocolo.\n",
    "* Utilizar scatter plots e boxplots para observar diferenças.\n",
    "\n",
    "\n",
    "## 2.5 Análise de Outliers\n",
    "\n",
    "* Discutir a presença de valores extremos e seu impacto na análise.\n",
    "\n",
    "\n",
    "## 2.6 Insights Iniciais\n",
    "\n",
    "* Há desequilíbrio de classes? (importante para machine learning).\n",
    "* Quais variáveis parecem redundantes ou pouco informativas?\n",
    "\n",
    "\n",
    "## 2.7 Conclusão\n",
    "\n",
    "* Destacar como o EDA ajuda a entender o dataset antes da modelagem."
   ]
  },
  {
   "cell_type": "markdown",
   "id": "c550108a",
   "metadata": {},
   "source": [
    "### Preparação do Ambiente"
   ]
  },
  {
   "cell_type": "code",
   "execution_count": null,
   "id": "0e75b812",
   "metadata": {},
   "outputs": [],
   "source": [
    "# ========================================\n",
    "# Preparação do Ambiente\n",
    "# ========================================\n",
    "import pandas as pd\n",
    "import numpy as np\n",
    "import matplotlib.pyplot as plt\n",
    "import seaborn as sns\n",
    "\n"
   ]
  },
  {
   "cell_type": "markdown",
   "id": "2f4bcd0b",
   "metadata": {},
   "source": [
    "### Configurar o estilo e carregar o dataset"
   ]
  },
  {
   "cell_type": "code",
   "execution_count": null,
   "id": "5329e17f",
   "metadata": {},
   "outputs": [],
   "source": [
    "# Configurações de estilo\n",
    "sns.set(style=\"whitegrid\", palette=\"muted\")\n",
    "plt.rcParams[\"figure.figsize\"] = (10, 6)\n",
    "\n",
    "nRowsRead = 1000 # utilizar 'None' se quiser ler todo o arquivo\n",
    "# Carregar dataset (ajuste o caminho conforme necessário)\n",
    "df = pd.read_csv(\"datasets/Unicauca-dataset-April-June-2019-Network-flows.csv\", nrows=nRowsRead)"
   ]
  },
  {
   "cell_type": "markdown",
   "id": "a27afca1",
   "metadata": {},
   "source": [
    "### Exploração inicial"
   ]
  },
  {
   "cell_type": "code",
   "execution_count": null,
   "id": "519be78b",
   "metadata": {},
   "outputs": [],
   "source": [
    "# ========================================\n",
    "# Exploração Inicial\n",
    "# ========================================\n",
    "print(\"Dimensões do dataset:\", df.shape)\n",
    "print(\"\\nTipos de dados:\")\n",
    "print(df.dtypes.value_counts())\n",
    "\n",
    "print(\"\\nVisualizando as 5 primeiras linhas:\")\n",
    "print(df.head())\n",
    "\n",
    "print(\"\\nResumo estatístico:\")\n",
    "print(df.describe())\n",
    "\n",
    "# Verificar valores ausentes\n",
    "print(\"\\nValores ausentes por coluna:\")\n",
    "print(df.isnull().sum())"
   ]
  },
  {
   "cell_type": "markdown",
   "id": "828dd27c",
   "metadata": {},
   "source": [
    "### Análise univariada"
   ]
  },
  {
   "cell_type": "code",
   "execution_count": null,
   "id": "940e806e",
   "metadata": {},
   "outputs": [],
   "source": [
    "# ========================================\n",
    "# Análise Univariada\n",
    "# ========================================\n",
    "# Distribuição das classes\n",
    "print(\"\\nDistribuição dos protocolos:\")\n",
    "print(df['proto'].value_counts())\n",
    "\n",
    "sns.countplot(data=df, x=\"proto\")\n",
    "plt.title(\"Distribuição dos protocolos\")\n",
    "plt.show()\n",
    "\n",
    "# Exemplo: distribuição de uma variável numérica\n",
    "sns.histplot(df['src_port'], bins=50, kde=True)\n",
    "plt.title(\"Distribuição da variável porta de origenm (src_port)\")\n",
    "plt.show()"
   ]
  },
  {
   "cell_type": "markdown",
   "id": "e43aa589",
   "metadata": {},
   "source": [
    "### Análise bivariada\n",
    "\n",
    "#### Mapa de correlação entre as variáveis numéricas"
   ]
  },
  {
   "cell_type": "code",
   "execution_count": null,
   "id": "97215640",
   "metadata": {},
   "outputs": [],
   "source": [
    "# ========================================\n",
    "# Análise Bivariada\n",
    "# ========================================\n",
    "# Correlação entre variáveis numéricas\n",
    "corr = df.corr(numeric_only=True)\n",
    "sns.heatmap(corr, cmap=\"coolwarm\", annot=False)\n",
    "plt.title(\"Mapa de Correlação\")\n",
    "plt.show()"
   ]
  },
  {
   "cell_type": "markdown",
   "id": "d89e09c8",
   "metadata": {},
   "source": [
    "#### Relação entre as variáveis 'flowDuration' e 'f_flowEnd'"
   ]
  },
  {
   "cell_type": "code",
   "execution_count": null,
   "id": "026a9422",
   "metadata": {},
   "outputs": [],
   "source": [
    "# Relação entre duração do fluxo e protocolo\n",
    "sns.boxplot(data=df, x=\"proto\", y=\"flowDuration\")\n",
    "plt.title(\"Comparação da variável 'flowDuration' por protocolo\")\n",
    "plt.show()"
   ]
  },
  {
   "cell_type": "markdown",
   "id": "37b6c862",
   "metadata": {},
   "source": [
    "#### Relação entre o total de pacotes e o total de bytes"
   ]
  },
  {
   "cell_type": "code",
   "execution_count": null,
   "id": "5ef690fb",
   "metadata": {},
   "outputs": [],
   "source": [
    "# Relação entre pktTotalCount (total de pacotes) e octetTotalCount (total de bytes)\n",
    "sns.scatterplot(data=df, x=\"pktTotalCount\", y=\"octetTotalCount\", alpha=0.6)\n",
    "plt.title(\"TotPkts vs TotBytes (com rótulo)\")\n",
    "plt.show()"
   ]
  },
  {
   "cell_type": "markdown",
   "id": "6dbaea32",
   "metadata": {},
   "source": [
    "### Análise de *outliers*"
   ]
  },
  {
   "cell_type": "code",
   "execution_count": null,
   "id": "35f52264",
   "metadata": {},
   "outputs": [],
   "source": [
    "# ========================================\n",
    "# Outliers\n",
    "# ========================================\n",
    "sns.boxplot(x=df[\"flowDuration\"])\n",
    "plt.title(\"Outliers em 'flowDuration'\")\n",
    "plt.show()"
   ]
  },
  {
   "cell_type": "markdown",
   "id": "e111b0fd",
   "metadata": {},
   "source": [
    "### *Insights*"
   ]
  },
  {
   "cell_type": "code",
   "execution_count": null,
   "id": "6ed2ad69",
   "metadata": {},
   "outputs": [],
   "source": [
    "# ========================================\n",
    "# Insights\n",
    "# ========================================\n",
    "# Exemplo de verificação de desbalanceamento de classes\n",
    "class_counts = df['proto'].value_counts(normalize=True)\n",
    "print(\"\\nProporção dos protocolos utilizados (%):\")\n",
    "print(class_counts * 100)"
   ]
  }
 ],
 "metadata": {
  "kernelspec": {
   "display_name": "Python 3",
   "language": "python",
   "name": "python3"
  },
  "language_info": {
   "codemirror_mode": {
    "name": "ipython",
    "version": 3
   },
   "file_extension": ".py",
   "mimetype": "text/x-python",
   "name": "python",
   "nbconvert_exporter": "python",
   "pygments_lexer": "ipython3",
   "version": "3.12.4"
  }
 },
 "nbformat": 4,
 "nbformat_minor": 5
}
